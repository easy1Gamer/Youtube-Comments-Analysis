{
 "cells": [
  {
   "cell_type": "code",
   "id": "initial_id",
   "metadata": {
    "collapsed": true,
    "ExecuteTime": {
     "end_time": "2025-03-06T11:29:42.354106Z",
     "start_time": "2025-03-06T11:29:41.827221Z"
    }
   },
   "source": [
    "import json\n",
    "import numpy as np\n",
    "import pandas as pd\n",
    "import re\n",
    "import nltk\n",
    "from nltk.corpus import stopwords\n",
    "nltk.download('stopwords')\n",
    "nltk.download('punkt')\n",
    "import pickleshare"
   ],
   "outputs": [
    {
     "name": "stderr",
     "output_type": "stream",
     "text": [
      "[nltk_data] Downloading package stopwords to\n",
      "[nltk_data]     C:\\Users\\kovre\\AppData\\Roaming\\nltk_data...\n",
      "[nltk_data]   Package stopwords is already up-to-date!\n",
      "[nltk_data] Downloading package punkt to\n",
      "[nltk_data]     C:\\Users\\kovre\\AppData\\Roaming\\nltk_data...\n",
      "[nltk_data]   Package punkt is already up-to-date!\n"
     ]
    }
   ],
   "execution_count": 1
  },
  {
   "metadata": {
    "ExecuteTime": {
     "end_time": "2025-03-06T11:29:57.906717Z",
     "start_time": "2025-03-06T11:29:53.231140Z"
    }
   },
   "cell_type": "code",
   "source": [
    "# loading and cleaning GBcomments dataframe\n",
    "df_gb_comments = pd.read_csv('base_data/GBcomments.csv')\n",
    "df_gb_comments = df_gb_comments.iloc[:, :4]\n",
    "df_gb_comments['likes'] = pd.to_numeric(df_gb_comments['likes'], errors='coerce')\n",
    "df_gb_comments['replies'] = pd.to_numeric(df_gb_comments['replies'], errors='coerce')\n",
    "df_gb_comments = df_gb_comments.dropna()\n",
    "\n",
    "# loading and cleaning UScomments dataframe\n",
    "df_us_comments = pd.read_csv('base_data/UScomments.csv', encoding_errors='replace',\n",
    "                             usecols=df_gb_comments.columns[0:4],\n",
    "                             dtype={df_gb_comments.columns[1]: 'str', df_gb_comments.columns[2]: 'str',\n",
    "                                    df_gb_comments.columns[3]: 'str'})\n",
    "df_us_comments = df_us_comments.iloc[:, :4]\n",
    "df_us_comments = df_us_comments[df_us_comments['video_id'].map(lambda x: len(x)) == 11]\n",
    "df_us_comments['likes'] = pd.to_numeric(df_us_comments['likes'], errors='coerce')\n",
    "df_us_comments['replies'] = pd.to_numeric(df_us_comments['replies'], errors='coerce')\n",
    "df_us_comments = df_us_comments.dropna()\n",
    "\n",
    "# Creating combined comments dataframe\n",
    "df_gb_us_comments = pd.concat([df_gb_comments, df_us_comments], axis='index', ignore_index=True)\n",
    "df_gb_us_comments = df_gb_us_comments[df_gb_us_comments['video_id'].str.match(r'[a-zA-Z0-9-_]{11}')]\n",
    "\n",
    "# loading GBvideos dataframe\n",
    "df_gb_videos = pd.read_csv('base_data/GBvideos.csv')\n",
    "df_gb_videos = df_gb_videos.dropna()\n",
    "df_gb_videos = df_gb_videos[df_gb_videos['video_id'].map(lambda x: len(x)) == 11]\n",
    "\n",
    "# loading USvideos dataframe\n",
    "df_us_videos = pd.read_csv('base_data/USvideos.csv')\n",
    "df_us_videos = df_us_videos.iloc[:, :11]\n",
    "df_us_videos = df_us_videos.dropna()\n",
    "df_us_videos = df_us_videos[df_us_videos['video_id'].map(lambda x: len(x)) == 11]\n",
    "\n",
    "# Creating combined videos dataframe\n",
    "df_gb_us_videos = pd.concat([df_gb_videos, df_us_videos])\n",
    "df_gb_us_videos = df_gb_us_videos.set_index(np.arange(len(df_gb_us_videos)))\n",
    "df_gb_us_videos = df_gb_us_videos.loc[df_gb_us_videos.groupby('video_id')['views'].idxmax()]\n",
    "\n",
    "# Loading and reformating categories\n",
    "f = open('base_data/GB_category_id.json')\n",
    "json_gb_category = json.load(f)\n",
    "f.close()\n",
    "\n",
    "values_gb = []\n",
    "for i in json_gb_category['items']:\n",
    "    values_gb.append([i['id'], i['snippet']['title']])\n",
    "df_gb_category = pd.DataFrame(values_gb)\n",
    "\n",
    "f = open('base_data/US_category_id.json')\n",
    "json_us_category = json.load(f)\n",
    "f.close()\n",
    "\n",
    "values_us = []\n",
    "for i in json_us_category['items']:\n",
    "    values_us.append([i['id'], i['snippet']['title']])\n",
    "df_us_category = pd.DataFrame(values_us)  # [[index1, value], [index1, value], [], []\n",
    "\n",
    "# Merging videos, comments and categories into one dataframe\n",
    "df_gb_us_categories = pd.merge(df_gb_category, df_us_category, how='outer', on=[0, 1])\n",
    "df_gb_us_categories = df_gb_us_categories.set_axis(['category_id', 'category_name'], axis=1)\n",
    "df_gb_us_categories = df_gb_us_categories.set_index(df_gb_us_categories['category_id']).drop(axis='columns',\n",
    "                                                                                             labels='category_id')\n",
    "df_gb_us_videos['category_id'] = df_gb_us_videos['category_id'].map(\n",
    "    lambda x: df_gb_us_categories.loc[str(x)]['category_name'])\n",
    "df_final = pd.merge(df_gb_us_videos, df_gb_us_comments, how='outer', on='video_id')\n",
    "df_final = df_final.rename(columns={'likes_x': 'likes_video', 'likes_y': 'likes_comment'})\n",
    "df_final = df_final.drop(['thumbnail_link', 'date'], axis='columns')\n",
    "df_final = df_final.dropna()\n",
    "filtered = df_final['comment_text'].str.contains(r'(https|http)://(\\w*)?\\.?(\\w*)\\.(\\w*)(/[\\w_=+-?!&\\.]*)*')\n",
    "df_final = df_final[~filtered]"
   ],
   "id": "46e0ac667d6364c0",
   "outputs": [
    {
     "name": "stderr",
     "output_type": "stream",
     "text": [
      "C:\\Users\\kovre\\AppData\\Local\\Temp\\ipykernel_3124\\98357551.py:2: DtypeWarning: Columns (2,3) have mixed types. Specify dtype option on import or set low_memory=False.\n",
      "  df_gb_comments = pd.read_csv('base_data/GBcomments.csv')\n",
      "C:\\Users\\kovre\\AppData\\Local\\Temp\\ipykernel_3124\\98357551.py:69: UserWarning: This pattern is interpreted as a regular expression, and has match groups. To actually get the groups, use str.extract.\n",
      "  filtered = df_final['comment_text'].str.contains(r'(https|http)://(\\w*)?\\.?(\\w*)\\.(\\w*)(/[\\w_=+-?!&\\.]*)*')\n"
     ]
    }
   ],
   "execution_count": 2
  },
  {
   "metadata": {
    "ExecuteTime": {
     "end_time": "2025-03-06T11:30:03.753704Z",
     "start_time": "2025-03-06T11:30:03.361232Z"
    }
   },
   "cell_type": "code",
   "source": [
    "#Creating dataframe with comments by category\n",
    "df_comment_by_category = df_final.groupby(['category_id'])['comment_text'].apply(lambda x: \" \".join(x))"
   ],
   "id": "781aff49331038d6",
   "outputs": [],
   "execution_count": 3
  },
  {
   "metadata": {
    "ExecuteTime": {
     "end_time": "2025-03-06T11:30:23.218469Z",
     "start_time": "2025-03-06T11:30:05.694658Z"
    }
   },
   "cell_type": "code",
   "source": [
    "#Cleaning comments\n",
    "df_comment_by_category = df_comment_by_category.str.lower()\n",
    "df_comment_by_category = df_comment_by_category.apply(lambda x: re.sub(f'[{chr(8205)}-{chr(129784)}]', ' ', x))\n",
    "df_comment_by_category = df_comment_by_category.apply(lambda x: re.sub(r'\\\\n', '', x))\n",
    "df_comment_by_category = df_comment_by_category.apply(lambda x: re.sub(r'[:!~?&)(*-<>=+]', '', x))\n",
    "df_comment_by_category = df_comment_by_category.apply(lambda x: re.sub(r'[.,\\d]*', '', x))"
   ],
   "id": "bef59f282a451411",
   "outputs": [],
   "execution_count": 4
  },
  {
   "metadata": {
    "ExecuteTime": {
     "end_time": "2025-03-06T11:31:10.443818Z",
     "start_time": "2025-03-06T11:30:27.263647Z"
    }
   },
   "cell_type": "code",
   "source": [
    "#This function gets the informative words from the text and counts their number of occurrences\n",
    "def count_words(comment_text):\n",
    "    word_count = {}\n",
    "    for a in comment_text.split():\n",
    "        if len(a) >= 3:\n",
    "            if a in word_count.keys():\n",
    "                word_count[a] += 1\n",
    "            else:\n",
    "                word_count[a] = 1\n",
    "    for r in list(word_count.keys()):\n",
    "        if r in stopwords.words('english'):\n",
    "            word_count.pop(r)\n",
    "    return list(sorted(word_count.items(), key= lambda item: item[1], reverse=True))[:15]\n",
    "\n",
    "df_comment_by_category_stats = df_comment_by_category.to_frame()\n",
    "df_comment_by_category_stats['nb_words'] = df_comment_by_category_stats['comment_text'].apply(lambda x: len([word for word in x.split()]))\n",
    "df_comment_by_category_stats['top_words'] = df_comment_by_category_stats['comment_text'].apply(count_words)"
   ],
   "id": "cc62fc52c6ed4d75",
   "outputs": [],
   "execution_count": 5
  },
  {
   "metadata": {
    "ExecuteTime": {
     "end_time": "2025-03-06T11:31:13.598604Z",
     "start_time": "2025-03-06T11:31:13.451682Z"
    }
   },
   "cell_type": "code",
   "source": [
    "#In this section I work with dataframes to gather useful information\n",
    "df_categories_stats = df_final.iloc[:, :-3].groupby('category_id')[['views', 'likes_video', 'dislikes', 'comment_total']].sum().sort_values(\n",
    "    by='views', ascending=False)\n",
    "df_categories_stats.insert(3, 'total_reactions', df_categories_stats['likes_video'] + df_categories_stats['dislikes'])"
   ],
   "id": "46c7f41f8274c5b6",
   "outputs": [],
   "execution_count": 6
  },
  {
   "metadata": {
    "ExecuteTime": {
     "end_time": "2025-03-06T11:31:15.818263Z",
     "start_time": "2025-03-06T11:31:15.597898Z"
    }
   },
   "cell_type": "code",
   "source": [
    "%store df_categories_stats\n",
    "%store df_comment_by_category\n",
    "%store df_comment_by_category_stats"
   ],
   "id": "23ab20f1b5d18334",
   "outputs": [
    {
     "name": "stdout",
     "output_type": "stream",
     "text": [
      "Stored 'df_categories_stats' (DataFrame)\n",
      "Stored 'df_comment_by_category' (Series)\n",
      "Stored 'df_comment_by_category_stats' (DataFrame)\n"
     ]
    }
   ],
   "execution_count": 7
  },
  {
   "metadata": {},
   "cell_type": "code",
   "outputs": [],
   "execution_count": null,
   "source": "",
   "id": "f999d5f2924374ff"
  }
 ],
 "metadata": {
  "kernelspec": {
   "display_name": "Python 3",
   "language": "python",
   "name": "python3"
  },
  "language_info": {
   "codemirror_mode": {
    "name": "ipython",
    "version": 2
   },
   "file_extension": ".py",
   "mimetype": "text/x-python",
   "name": "python",
   "nbconvert_exporter": "python",
   "pygments_lexer": "ipython2",
   "version": "2.7.6"
  }
 },
 "nbformat": 4,
 "nbformat_minor": 5
}
